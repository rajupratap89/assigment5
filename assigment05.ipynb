{
 "cells": [
  {
   "cell_type": "code",
   "execution_count": null,
   "id": "75b86952-7021-4e4f-ba6f-43d646086e1d",
   "metadata": {},
   "outputs": [],
   "source": [
    "Q1, Create a vehicle class with an init method having instance variables as name_of_vehicle, max_speed\n",
    "and average_of_vehicle. "
   ]
  },
  {
   "cell_type": "code",
   "execution_count": 7,
   "id": "e5341c0d-78a5-4816-9c58-6b08f84392f7",
   "metadata": {},
   "outputs": [],
   "source": [
    "class vehicle:\n",
    "    \n",
    "    def __init__(self ,name_of_vehicle,max_speed,average_of_vehicle):\n",
    "        self.name_of_vehicle=name_of_vehicle\n",
    "        self.max_speed=max_speed\n",
    "        self.average_of_vehicle=average_of_vehicle"
   ]
  },
  {
   "cell_type": "code",
   "execution_count": 9,
   "id": "d897a1e0-bf27-44ce-a6aa-18c554b79fe9",
   "metadata": {},
   "outputs": [],
   "source": [
    "test=vehicle(\"bmw\",450,80)"
   ]
  },
  {
   "cell_type": "code",
   "execution_count": 11,
   "id": "03dd91ac-55d9-47ae-add5-e2bbc346c2c0",
   "metadata": {},
   "outputs": [
    {
     "data": {
      "text/plain": [
       "'bmw'"
      ]
     },
     "execution_count": 11,
     "metadata": {},
     "output_type": "execute_result"
    }
   ],
   "source": [
    "test.name_of_vehicle"
   ]
  },
  {
   "cell_type": "code",
   "execution_count": 12,
   "id": "4f86ff5a-f66a-420c-90f2-3743eb4d1a34",
   "metadata": {},
   "outputs": [
    {
     "data": {
      "text/plain": [
       "450"
      ]
     },
     "execution_count": 12,
     "metadata": {},
     "output_type": "execute_result"
    }
   ],
   "source": [
    "test.max_speed"
   ]
  },
  {
   "cell_type": "code",
   "execution_count": null,
   "id": "7fbc410b-9186-485d-93c7-af21d5584967",
   "metadata": {},
   "outputs": [],
   "source": [
    "Q2.  Create a child class car from the vehicle class created in Que 1, which will inherit the vehicle class.\n",
    "Create a method named seating_capacity which takes capacity as an argument and returns the name of\n",
    "the vehicle and its seating capacity."
   ]
  },
  {
   "cell_type": "code",
   "execution_count": 13,
   "id": "16014748-d664-4ab9-bc69-7c8a4e683927",
   "metadata": {},
   "outputs": [],
   "source": [
    "class car(vehicle):\n",
    "    \n",
    "    def seating_capacity(self):\n",
    "        return \"total seating capacity is six\"\n",
    "    \n",
    "    def name_of_vehicle(self):\n",
    "        return \"vehicle name is bmw\""
   ]
  },
  {
   "cell_type": "code",
   "execution_count": 15,
   "id": "324a08cb-d3b6-400c-a57a-dbcd93e384d1",
   "metadata": {},
   "outputs": [
    {
     "data": {
      "text/plain": [
       "'total seating capacity is six'"
      ]
     },
     "execution_count": 15,
     "metadata": {},
     "output_type": "execute_result"
    }
   ],
   "source": [
    "cr=car(\"bmw\",450,80)\n",
    "cr.seating_capacity()"
   ]
  },
  {
   "cell_type": "code",
   "execution_count": null,
   "id": "819ac22f-2891-455c-92a2-5a7248f415dd",
   "metadata": {},
   "outputs": [],
   "source": [
    "Q3. What is multiple inheritance? Write a python code to demonstrate multiple inheritance."
   ]
  },
  {
   "cell_type": "code",
   "execution_count": 16,
   "id": "d16ec525-e57f-434e-9269-79a34ae74a5b",
   "metadata": {},
   "outputs": [],
   "source": [
    "class class1:\n",
    "    \n",
    "    def test_class1(self):\n",
    "        return \"this is class1\"\n",
    "    "
   ]
  },
  {
   "cell_type": "code",
   "execution_count": 17,
   "id": "9befe264-9026-47b5-b700-143da19674ad",
   "metadata": {},
   "outputs": [],
   "source": [
    "class class2:\n",
    "    \n",
    "    def test_class2(self):\n",
    "        return \"this is class2\"\n",
    "        "
   ]
  },
  {
   "cell_type": "code",
   "execution_count": 18,
   "id": "21174d55-9a1d-4004-941c-91f47f9f5279",
   "metadata": {},
   "outputs": [],
   "source": [
    "class class3(class1,class2):\n",
    "    pass "
   ]
  },
  {
   "cell_type": "code",
   "execution_count": 19,
   "id": "f7ea6170-6ced-4e5a-9d77-29f8731c7db0",
   "metadata": {},
   "outputs": [],
   "source": [
    "obj_class=class3()"
   ]
  },
  {
   "cell_type": "code",
   "execution_count": 20,
   "id": "4a2c34c3-60ec-4818-a421-387d106ef40b",
   "metadata": {},
   "outputs": [
    {
     "data": {
      "text/plain": [
       "'this is class1'"
      ]
     },
     "execution_count": 20,
     "metadata": {},
     "output_type": "execute_result"
    }
   ],
   "source": [
    "obj_class.test_class1()"
   ]
  },
  {
   "cell_type": "code",
   "execution_count": 21,
   "id": "d1a39d98-dca3-4d42-bd1b-b4bf88bc66cb",
   "metadata": {},
   "outputs": [
    {
     "data": {
      "text/plain": [
       "'this is class2'"
      ]
     },
     "execution_count": 21,
     "metadata": {},
     "output_type": "execute_result"
    }
   ],
   "source": [
    "obj_class.test_class2()"
   ]
  },
  {
   "cell_type": "code",
   "execution_count": null,
   "id": "0b3b6380-6410-4090-8d5b-60e3b04c384d",
   "metadata": {},
   "outputs": [],
   "source": [
    "Q4. What are getter and setter in python? Create a class and create a getter and a setter method in this\n",
    "class."
   ]
  },
  {
   "cell_type": "code",
   "execution_count": null,
   "id": "aaf4b788-ebd4-4423-9652-a3e8f0ac2d84",
   "metadata": {},
   "outputs": [],
   "source": [
    "Q5.What is method overriding in python? Write a python code to demonstrate method overriding."
   ]
  },
  {
   "cell_type": "code",
   "execution_count": 23,
   "id": "382f8b14-169f-4103-82d8-ff9b4f4ea663",
   "metadata": {},
   "outputs": [],
   "source": [
    "class animal:\n",
    "    def speak(self):\n",
    "        return \"animal speak\""
   ]
  },
  {
   "cell_type": "code",
   "execution_count": 24,
   "id": "cf820074-8e05-472b-a6cd-ee653b5e5a9c",
   "metadata": {},
   "outputs": [],
   "source": [
    "class dog(animal):\n",
    "    \n",
    "    def speak(self):\n",
    "        return \"dog bark\""
   ]
  },
  {
   "cell_type": "code",
   "execution_count": 25,
   "id": "f41b2c98-75db-496d-bf6e-b8122f806deb",
   "metadata": {},
   "outputs": [],
   "source": [
    "class cat(animal):\n",
    "    \n",
    "    def speak(self):\n",
    "        return \"cat meow\""
   ]
  },
  {
   "cell_type": "code",
   "execution_count": 27,
   "id": "f090d022-5e3f-4907-947d-8ad4d43a6428",
   "metadata": {},
   "outputs": [
    {
     "data": {
      "text/plain": [
       "'cat meow'"
      ]
     },
     "execution_count": 27,
     "metadata": {},
     "output_type": "execute_result"
    }
   ],
   "source": [
    "cg=cat()\n",
    "cg.speak()"
   ]
  },
  {
   "cell_type": "code",
   "execution_count": null,
   "id": "634e35c2-531e-49ce-a866-508535b4d54a",
   "metadata": {},
   "outputs": [],
   "source": [
    "cg=dog()\n"
   ]
  }
 ],
 "metadata": {
  "kernelspec": {
   "display_name": "Python 3 (ipykernel)",
   "language": "python",
   "name": "python3"
  },
  "language_info": {
   "codemirror_mode": {
    "name": "ipython",
    "version": 3
   },
   "file_extension": ".py",
   "mimetype": "text/x-python",
   "name": "python",
   "nbconvert_exporter": "python",
   "pygments_lexer": "ipython3",
   "version": "3.10.8"
  }
 },
 "nbformat": 4,
 "nbformat_minor": 5
}
